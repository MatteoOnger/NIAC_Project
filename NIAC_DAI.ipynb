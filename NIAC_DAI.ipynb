{
  "nbformat": 4,
  "nbformat_minor": 0,
  "metadata": {
    "colab": {
      "provenance": [],
      "authorship_tag": "ABX9TyNxShNcdj0JLNYk61mn47uR",
      "include_colab_link": true
    },
    "kernelspec": {
      "name": "python3",
      "display_name": "Python 3"
    },
    "language_info": {
      "name": "python"
    }
  },
  "cells": [
    {
      "cell_type": "markdown",
      "metadata": {
        "id": "view-in-github",
        "colab_type": "text"
      },
      "source": [
        "<a href=\"https://colab.research.google.com/github/MatteoOnger/NIAC_Project/blob/main/NIAC_DAI.ipynb\" target=\"_parent\"><img src=\"https://colab.research.google.com/assets/colab-badge.svg\" alt=\"Open In Colab\"/></a>"
      ]
    },
    {
      "cell_type": "markdown",
      "source": [
        "# **NIAC Project: ###**\n",
        "\n",
        "*   **Author:**\n",
        "*   **Date:** March 2025"
      ],
      "metadata": {
        "id": "PjrEkobbVNbX"
      }
    },
    {
      "cell_type": "markdown",
      "source": [
        "**Documentation**:\n",
        "*   Scallop & Scallopy: [GitHub](https://github.com/scallop-lang/scallop), [website](https://www.scallop-lang.org/)\n",
        "\n",
        "**Notes**:\n",
        "*   ..."
      ],
      "metadata": {
        "id": "-yZMW6MUVWr_"
      }
    },
    {
      "cell_type": "code",
      "source": [
        "# download project repository\n",
        "!git clone -b main https://github.com/MatteoOnger/NIAC_Project.git\n",
        "\n",
        "# download Scallop repository\n",
        "!git clone https://github.com/scallop-lang/scallop.git\n",
        "\n",
        "# download Scallopy\n",
        "!wget https://github.com/scallop-lang/scallop/releases/download/0.1.4/scallopy-0.1.4-cp39-cp39-manylinux_2_27_x86_64.whl"
      ],
      "metadata": {
        "id": "05_11SYzU9b2"
      },
      "execution_count": null,
      "outputs": []
    },
    {
      "cell_type": "code",
      "source": [
        "# download and install Miniconda\n",
        "%env PYTHONPATH=\n",
        "\n",
        "!wget https://repo.anaconda.com/miniconda/Miniconda3-py311_25.1.1-2-Linux-x86_64.sh\n",
        "!chmod +x /content/Miniconda3-py311_25.1.1-2-Linux-x86_64.sh\n",
        "!bash Miniconda3-py311_25.1.1-2-Linux-x86_64.sh -b -f -p /usr/local\n",
        "\n",
        "import sys\n",
        "sys.path.append('/usr/local/lib/python3.11/site-packages/')"
      ],
      "metadata": {
        "id": "AeWscrHaAcVj"
      },
      "execution_count": null,
      "outputs": []
    },
    {
      "cell_type": "code",
      "source": [
        "# force creation of the virtual environment 'niac'\n",
        "!conda env remove -n niac -y || true\n",
        "!conda env create -f /content/NIAC_Project/environment.yaml -y\n",
        "!conda env list"
      ],
      "metadata": {
        "id": "s_mw-5kijoLc"
      },
      "execution_count": null,
      "outputs": []
    },
    {
      "cell_type": "markdown",
      "source": [
        "---"
      ],
      "metadata": {
        "id": "VQW8ifqMZjwi"
      }
    },
    {
      "cell_type": "code",
      "source": [
        "%%bash\n",
        "source activate niac\n",
        "python3\n",
        "\n",
        "import sys\n",
        "print(f\"-----\\nCurrent Python version: {sys.version}\\n-----\")\n",
        "\n",
        "import scallopy\n",
        "ctx = scallopy.ScallopContext()\n",
        "\n",
        "ctx.add_relation(\"hello\", str)\n",
        "ctx.add_facts(\"hello\", [(\"Hello World\",)])\n",
        "ctx.run()\n",
        "\n",
        "print(list(ctx.relation(\"hello\")))\n",
        "\n",
        "quit()"
      ],
      "metadata": {
        "colab": {
          "base_uri": "https://localhost:8080/"
        },
        "id": "oj9kNBbcyUlM",
        "outputId": "d68242b8-fa39-46cc-eff0-663be0a7bad7"
      },
      "execution_count": 4,
      "outputs": [
        {
          "output_type": "stream",
          "name": "stdout",
          "text": [
            "-----\n",
            "Current Python version: 3.9.21 | packaged by conda-forge | (main, Dec  5 2024, 13:51:40) \n",
            "[GCC 13.3.0]\n",
            "-----\n",
            "[('Hello World',)]\n"
          ]
        }
      ]
    },
    {
      "cell_type": "code",
      "source": [
        "%%bash\n",
        "source activate niac\n",
        "python3 /content/scallop/experiments/pacman_maze/run_demo.py"
      ],
      "metadata": {
        "id": "2zKcsHGSZ3X2",
        "colab": {
          "base_uri": "https://localhost:8080/"
        },
        "outputId": "4408f070-c32b-4200-9601-7d1db0828531"
      },
      "execution_count": 5,
      "outputs": [
        {
          "output_type": "stream",
          "name": "stdout",
          "text": [
            "Taking action: left\n",
            "Taking action: up\n",
            "Taking action: down\n",
            "Taking action: right\n",
            "Taking action: right\n",
            "Taking action: right\n",
            "Taking action: up\n",
            "Failed!\n"
          ]
        }
      ]
    }
  ]
}