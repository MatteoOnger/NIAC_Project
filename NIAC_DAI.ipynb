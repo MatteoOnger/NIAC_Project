{
  "nbformat": 4,
  "nbformat_minor": 0,
  "metadata": {
    "colab": {
      "provenance": [],
      "authorship_tag": "ABX9TyOXPpoicYQl5XGIwN70StHB",
      "include_colab_link": true
    },
    "kernelspec": {
      "name": "python3",
      "display_name": "Python 3"
    },
    "language_info": {
      "name": "python"
    }
  },
  "cells": [
    {
      "cell_type": "markdown",
      "metadata": {
        "id": "view-in-github",
        "colab_type": "text"
      },
      "source": [
        "<a href=\"https://colab.research.google.com/github/MatteoOnger/NIAC_Project/blob/main/NIAC_DAI.ipynb\" target=\"_parent\"><img src=\"https://colab.research.google.com/assets/colab-badge.svg\" alt=\"Open In Colab\"/></a>"
      ]
    },
    {
      "cell_type": "markdown",
      "source": [
        "# **NIAC Project: ###**\n",
        "\n",
        "*   **Author:**\n",
        "*   **Date:**"
      ],
      "metadata": {
        "id": "PjrEkobbVNbX"
      }
    },
    {
      "cell_type": "markdown",
      "source": [
        "**Documentation**:\n",
        "*   ...\n",
        "\n",
        "**Notes**:\n",
        "*   ..."
      ],
      "metadata": {
        "id": "-yZMW6MUVWr_"
      }
    },
    {
      "cell_type": "code",
      "source": [
        "# download repository\n",
        "!git clone -b main https://github.com/MatteoOnger/NIAC_Project.git"
      ],
      "metadata": {
        "id": "05_11SYzU9b2"
      },
      "execution_count": null,
      "outputs": []
    },
    {
      "cell_type": "code",
      "source": [
        "# download and install Miniconda\n",
        "%env PYTHONPATH=\n",
        "\n",
        "!wget https://repo.anaconda.com/miniconda/Miniconda3-py311_25.1.1-2-Linux-x86_64.sh\n",
        "!chmod +x /content/Miniconda3-py311_25.1.1-2-Linux-x86_64.sh\n",
        "!bash Miniconda3-py311_25.1.1-2-Linux-x86_64.sh -b -f -p /usr/local\n",
        "\n",
        "import sys\n",
        "sys.path.append('/usr/local/lib/python3.11/site-packages/')"
      ],
      "metadata": {
        "id": "AeWscrHaAcVj"
      },
      "execution_count": null,
      "outputs": []
    },
    {
      "cell_type": "code",
      "source": [
        "# download Scallopy\n",
        "!wget https://github.com/scallop-lang/scallop/releases/download/0.1.4/scallopy-0.1.4-cp39-cp39-manylinux_2_27_x86_64.whl\n",
        "\n",
        "# create a virtual environment\n",
        "!conda env create -f /content/NIAC_Project/environment.yaml\n",
        "!conda env list"
      ],
      "metadata": {
        "id": "s_mw-5kijoLc"
      },
      "execution_count": null,
      "outputs": []
    },
    {
      "cell_type": "code",
      "source": [
        "%%bash\n",
        "source activate niac\n",
        "python3\n",
        "\n",
        "import sys\n",
        "print(f\"-----\\nCurrent Python version: {sys.version}\\n-----\")\n",
        "\n",
        "import scallopy\n",
        "ctx = scallopy.ScallopContext()\n",
        "\n",
        "ctx.add_relation(\"hello\", str)\n",
        "ctx.add_facts(\"hello\", [(\"Hello World\",)])\n",
        "ctx.run()\n",
        "\n",
        "print(list(ctx.relation(\"hello\")))"
      ],
      "metadata": {
        "colab": {
          "base_uri": "https://localhost:8080/"
        },
        "id": "oj9kNBbcyUlM",
        "outputId": "b99ff547-910d-43c1-b759-1b4d59ee759c"
      },
      "execution_count": 5,
      "outputs": [
        {
          "output_type": "stream",
          "name": "stdout",
          "text": [
            "-----\n",
            "Current Python version: 3.9.21 (main, Dec 11 2024, 16:24:11) \n",
            "[GCC 11.2.0]\n",
            "-----\n",
            "[('Hello World',)]\n"
          ]
        }
      ]
    }
  ]
}