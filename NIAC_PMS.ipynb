{
  "nbformat": 4,
  "nbformat_minor": 0,
  "metadata": {
    "colab": {
      "provenance": [],
      "authorship_tag": "ABX9TyMNyRKt7pvMOQsT8sAijzCX",
      "include_colab_link": true
    },
    "kernelspec": {
      "name": "python3",
      "display_name": "Python 3"
    },
    "language_info": {
      "name": "python"
    }
  },
  "cells": [
    {
      "cell_type": "markdown",
      "metadata": {
        "id": "view-in-github",
        "colab_type": "text"
      },
      "source": [
        "<a href=\"https://colab.research.google.com/github/MatteoOnger/NIAC_Project/blob/main/NIAC_PMS.ipynb\" target=\"_parent\"><img src=\"https://colab.research.google.com/assets/colab-badge.svg\" alt=\"Open In Colab\"/></a>"
      ]
    },
    {
      "cell_type": "markdown",
      "source": [
        "# **NIAC Project: Pacman Maze Solver**\n",
        "\n",
        "*   **Authors:** Stefano Capelli, Matteo Onger\n",
        "*   **Date:** March 2025"
      ],
      "metadata": {
        "id": "PjrEkobbVNbX"
      }
    },
    {
      "cell_type": "markdown",
      "source": [
        "**Documentation**:\n",
        "*   Gymnasium: [website](https://gymnasium.farama.org/)\n",
        "*   Scallop & Scallopy: [paper](https://www.researchgate.net/publication/369945806_Scallop_A_Language_for_Neurosymbolic_Programming), [repository](https://github.com/scallop-lang/scallop), [website](https://www.scallop-lang.org/)\n",
        "*   Pacman Maze game: [description](https://www.scallop-lang.org/ssnp24/index.html#section-17:~:text=2%3A%20PacMan%20Agent-,In,-this%20part%2C%20we)\n",
        "\n",
        "**Notes**:\n",
        "*   ..."
      ],
      "metadata": {
        "id": "-yZMW6MUVWr_"
      }
    },
    {
      "cell_type": "code",
      "source": [
        "# download project repository\n",
        "!git clone -b main https://github.com/MatteoOnger/NIAC_Project.git\n",
        "\n",
        "# download Scallopy\n",
        "!wget https://github.com/scallop-lang/scallop/releases/download/0.1.4/scallopy-0.1.4-cp39-cp39-manylinux_2_27_x86_64.whl"
      ],
      "metadata": {
        "id": "05_11SYzU9b2"
      },
      "execution_count": null,
      "outputs": []
    },
    {
      "cell_type": "code",
      "source": [
        "# download and install Miniconda\n",
        "%env PYTHONPATH=\n",
        "\n",
        "!wget https://repo.anaconda.com/miniconda/Miniconda3-py311_25.1.1-2-Linux-x86_64.sh\n",
        "!chmod +x /content/Miniconda3-py311_25.1.1-2-Linux-x86_64.sh\n",
        "!bash Miniconda3-py311_25.1.1-2-Linux-x86_64.sh -b -f -p /usr/local\n",
        "\n",
        "import sys\n",
        "sys.path.append('/usr/local/lib/python3.11/site-packages/')"
      ],
      "metadata": {
        "id": "AeWscrHaAcVj"
      },
      "execution_count": null,
      "outputs": []
    },
    {
      "cell_type": "code",
      "source": [
        "# force creation of the virtual environment 'niac'\n",
        "!conda env remove -n niac -y || true\n",
        "!conda env create -f /content/NIAC_Project/environment.yaml -y\n",
        "!conda env list"
      ],
      "metadata": {
        "id": "s_mw-5kijoLc"
      },
      "execution_count": null,
      "outputs": []
    },
    {
      "cell_type": "markdown",
      "source": [
        "---"
      ],
      "metadata": {
        "id": "VQW8ifqMZjwi"
      }
    },
    {
      "cell_type": "code",
      "source": [
        "%%bash\n",
        "source activate niac\n",
        "python3\n",
        "\n",
        "import sys\n",
        "print(f\"-----\\nCurrent Python version: {sys.version}\\n-----\")\n",
        "\n",
        "import scallopy\n",
        "ctx = scallopy.ScallopContext()\n",
        "\n",
        "ctx.add_relation(\"hello\", str)\n",
        "ctx.add_facts(\"hello\", [(\"Hello World\",)])\n",
        "ctx.run()\n",
        "\n",
        "print(list(ctx.relation(\"hello\")))\n",
        "quit()"
      ],
      "metadata": {
        "id": "oj9kNBbcyUlM",
        "colab": {
          "base_uri": "https://localhost:8080/"
        },
        "outputId": "a3447a49-367b-4f1a-d8f2-622b350850bc"
      },
      "execution_count": 6,
      "outputs": [
        {
          "output_type": "stream",
          "name": "stdout",
          "text": [
            "-----\n",
            "Current Python version: 3.9.21 | packaged by conda-forge | (main, Dec  5 2024, 13:51:40) \n",
            "[GCC 13.3.0]\n",
            "-----\n",
            "[('Hello World',)]\n"
          ]
        }
      ]
    }
  ]
}