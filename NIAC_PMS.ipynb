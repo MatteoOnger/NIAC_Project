{
  "cells": [
    {
      "cell_type": "markdown",
      "metadata": {
        "id": "view-in-github",
        "colab_type": "text"
      },
      "source": [
        "<a href=\"https://colab.research.google.com/github/MatteoOnger/NIAC_Project/blob/dev/NIAC_PMS.ipynb\" target=\"_parent\"><img src=\"https://colab.research.google.com/assets/colab-badge.svg\" alt=\"Open In Colab\"/></a>"
      ]
    },
    {
      "cell_type": "markdown",
      "metadata": {
        "id": "PjrEkobbVNbX"
      },
      "source": [
        "# **NIAC Project: Pacman Maze Solver**\n",
        "\n",
        "*   **Authors:** Stefano Capelli, Matteo Onger\n",
        "*   **Date:** March 2025"
      ]
    },
    {
      "cell_type": "markdown",
      "metadata": {
        "id": "-yZMW6MUVWr_"
      },
      "source": [
        "**Documentation**:\n",
        "*   Gymnasium: [website](https://gymnasium.farama.org/)\n",
        "*   Scallop & Scallopy: [paper](https://www.researchgate.net/publication/369945806_Scallop_A_Language_for_Neurosymbolic_Programming), [repository](https://github.com/scallop-lang/scallop), [website](https://www.scallop-lang.org/)\n",
        "*   Pacman Maze game: [description](https://www.scallop-lang.org/ssnp24/index.html#section-17:~:text=2%3A%20PacMan%20Agent-,In,-this%20part%2C%20we)\n",
        "\n",
        "**Notes**:\n",
        "*   ..."
      ]
    },
    {
      "cell_type": "code",
      "execution_count": null,
      "metadata": {
        "id": "05_11SYzU9b2"
      },
      "outputs": [],
      "source": [
        "# download project repository\n",
        "!git clone -b dev https://github.com/MatteoOnger/NIAC_Project.git\n",
        "\n",
        "# download Miniconda\n",
        "!wget https://repo.anaconda.com/miniconda/Miniconda3-py311_25.1.1-2-Linux-x86_64.sh\n",
        "\n",
        "# download Scallopy 0.2.4 (Python 3.10)\n",
        "!wget https://github.com/scallop-lang/scallop/releases/download/0.2.4/scallopy-0.2.4-cp310-cp310-manylinux_2_27_x86_64.whl"
      ]
    },
    {
      "cell_type": "code",
      "execution_count": null,
      "metadata": {
        "id": "AeWscrHaAcVj"
      },
      "outputs": [],
      "source": [
        "# install Miniconda\n",
        "%env PYTHONPATH=\n",
        "\n",
        "!chmod +x /content/Miniconda3-py311_25.1.1-2-Linux-x86_64.sh\n",
        "!bash Miniconda3-py311_25.1.1-2-Linux-x86_64.sh -b -f -p /usr/local\n",
        "\n",
        "import sys\n",
        "sys.path.append('/usr/local/lib/python3.11/site-packages/')"
      ]
    },
    {
      "cell_type": "code",
      "execution_count": null,
      "metadata": {
        "id": "s_mw-5kijoLc"
      },
      "outputs": [],
      "source": [
        "# force creation of the virtual environment 'niac'\n",
        "!conda env remove -n niac -y || true\n",
        "!conda env create -f /content/NIAC_Project/environment.yaml -y\n",
        "!conda env list"
      ]
    },
    {
      "cell_type": "markdown",
      "metadata": {
        "id": "VQW8ifqMZjwi"
      },
      "source": [
        "---\n",
        "## Installation check"
      ]
    },
    {
      "cell_type": "code",
      "execution_count": null,
      "metadata": {
        "id": "oj9kNBbcyUlM"
      },
      "outputs": [],
      "source": [
        "# hello world in Scallopy 0.2.4\n",
        "%%bash\n",
        "source activate niac\n",
        "python3\n",
        "\n",
        "import sys\n",
        "print(f\"-----\\nCurrent Python version: {sys.version}\\n-----\")\n",
        "\n",
        "import scallopy\n",
        "ctx = scallopy.ScallopContext()\n",
        "\n",
        "ctx.add_relation(\"hello\", str)\n",
        "ctx.add_facts(\"hello\", [(\"Hello World\",)])\n",
        "ctx.run()\n",
        "\n",
        "print(list(ctx.relation(\"hello\")))\n",
        "quit()"
      ]
    },
    {
      "cell_type": "code",
      "execution_count": null,
      "metadata": {
        "id": "Fl2e1lZqBak5"
      },
      "outputs": [],
      "source": [
        "# random agent plays pacman maze\n",
        "import matplotlib.pyplot as plt\n",
        "import numpy as np\n",
        "import time\n",
        "\n",
        "from IPython.display import clear_output\n",
        "from NIAC_Project.pacman.arena import AvoidingArena\n",
        "\n",
        "env = AvoidingArena(render_mode=\"rgb_array\", grid_dim=(4,4), num_enemies=3)\n",
        "env.reset()\n",
        "\n",
        "counter = 0\n",
        "tot_reward = 0\n",
        "end_episode = False\n",
        "\n",
        "while not end_episode:\n",
        "    action = np.random.randint(0, 4)\n",
        "    observation, reward, terminated, truncated, info = env.step(action)\n",
        "    tot_reward += reward\n",
        "\n",
        "\n",
        "    clear_output(wait=True)\n",
        "    plt.imshow(env.render())\n",
        "    plt.axis('off')\n",
        "    plt.show()\n",
        "    time.sleep(.1)\n",
        "\n",
        "    end_episode = terminated or truncated or (counter > 10)\n",
        "    counter += 1\n",
        "\n",
        "env.close()\n",
        "print(f\"Tot reward:{tot_reward}\")"
      ]
    },
    {
      "cell_type": "markdown",
      "metadata": {
        "id": "S6KPVQRJ8JYA"
      },
      "source": [
        "---\n",
        "## ......."
      ]
    },
    {
      "cell_type": "code",
      "source": [
        "%%bash\n",
        "source activate niac\n",
        "python3\n",
        "\n",
        "import scallopy\n",
        "import torch\n",
        "from enum import Enum\n",
        "\n",
        "\n",
        "class Actions(Enum):\n",
        "    RIGHT = 0\n",
        "    UP = 1\n",
        "    LEFT = 2\n",
        "    DOWN = 3\n",
        "\n",
        "X, Y, eps = 3, 3, 0.1\n",
        "nodes = [(i,j) for i in range(X) for j in range(Y)]\n",
        "\n",
        "agent_p = torch.zeros(9)\n",
        "target_p = torch.zeros(9)\n",
        "enemy_p = torch.zeros(9)\n",
        "\n",
        "agent_p[3] = 1.\n",
        "target_p[8] = 1.\n",
        "enemy_p[4] = 1.\n",
        "\n",
        "\n",
        "# difftopkproofs, diffaddmultprob2\n",
        "ctx = scallopy.ScallopContext(provenance=\"difftopkproofs\")\n",
        "\n",
        "ctx.add_relation(\"actor\", (int, int))\n",
        "ctx.add_relation(\"target\", (int, int))\n",
        "ctx.add_relation(\"node\", (int, int))\n",
        "\n",
        "ctx.add_facts(\"actor\", [(agent_p[i], node) for i, node in enumerate(nodes)])\n",
        "ctx.add_facts(\"target\", [(target_p[i], node) for i, node in enumerate(nodes)])\n",
        "ctx.add_facts(\n",
        "    \"node\",\n",
        "    [(torch.clip(1 - enemy_p[i] - eps, min=0), node) for i, node in enumerate(nodes)],\n",
        ")\n",
        "\n",
        "ctx.add_rule(f\"edge(x, y, xp, y, {Actions.RIGHT.value}) = node(x, y) and node(xp, y) and xp == x + 1\")\n",
        "ctx.add_rule(f\"edge(x, y, x, yp, {Actions.UP.value})    = node(x, y) and node(x, yp) and yp == y + 1\")\n",
        "ctx.add_rule(f\"edge(x, y, xp, y, {Actions.LEFT.value})  = node(x, y) and node(xp, y) and xp == x - 1\")\n",
        "ctx.add_rule(f\"edge(x, y, x, yp, {Actions.DOWN.value})  = node(x, y) and node(x, yp) and yp == y - 1\")\n",
        "\n",
        "ctx.add_rule(\"path(x, y, x, y) = node(x, y)\")\n",
        "ctx.add_rule(\"path(x, y, xp, yp) = edge(x, y, xp, yp, _)\")\n",
        "ctx.add_rule(\"path(x, y, xpp, ypp) = path(x, y, xp, yp) and edge(xp, yp, xpp, ypp, _)\")\n",
        "\n",
        "ctx.add_rule(\"next_position(a, xp, yp) = actor(x, y) and edge(x, y, xp, yp, a)\")\n",
        "ctx.add_rule(\"next_action(a) = next_position(a, x, y) and path(x, y, gx, gy) and target(gx, gy)\")\n",
        "\n",
        "ctx.run()\n",
        "\n",
        "agents = list(ctx.relation(\"actor\"))\n",
        "targets = list(ctx.relation(\"target\"))\n",
        "nodes = list(ctx.relation(\"node\"))\n",
        "edges = list(ctx.relation(\"edge\"))\n",
        "paths = list(ctx.relation(\"path\"))\n",
        "next_positions = list(ctx.relation(\"next_position\"))\n",
        "next_actions = list(ctx.relation(\"next_action\"))\n",
        "\n",
        "for i, node in enumerate(nodes):\n",
        "    print(f\"{node[1]} -> {node[0]}, agents={agents[i][0]},  targets={targets[i][0]}, enemy={enemy_p[i]}\")\n",
        "print(\"-\" * 50)\n",
        "\n",
        "for next_position in next_positions:\n",
        "    if next_position[0] != 0:\n",
        "        print(f\"{next_position[1]} -> {next_position[0]}\")\n",
        "print(\"-\" * 50)\n",
        "\n",
        "print(next_actions)\n",
        "quit()"
      ],
      "metadata": {
        "id": "V6Q6mfViKlGP",
        "colab": {
          "base_uri": "https://localhost:8080/"
        },
        "outputId": "b25db15c-3cf0-41a2-c68b-ea6d5510b06a"
      },
      "execution_count": 28,
      "outputs": [
        {
          "output_type": "stream",
          "name": "stdout",
          "text": [
            "(0, 0) -> 0.8999999761581421, agents=0.0,  targets=0.0, enemy=0.0\n",
            "(0, 1) -> 0.8999999761581421, agents=0.0,  targets=0.0, enemy=0.0\n",
            "(0, 2) -> 0.8999999761581421, agents=0.0,  targets=0.0, enemy=0.0\n",
            "(1, 0) -> 0.8999999761581421, agents=1.0,  targets=0.0, enemy=0.0\n",
            "(1, 1) -> 0.0, agents=0.0,  targets=0.0, enemy=1.0\n",
            "(1, 2) -> 0.8999999761581421, agents=0.0,  targets=0.0, enemy=0.0\n",
            "(2, 0) -> 0.8999999761581421, agents=0.0,  targets=0.0, enemy=0.0\n",
            "(2, 1) -> 0.8999999761581421, agents=0.0,  targets=0.0, enemy=0.0\n",
            "(2, 2) -> 0.8999999761581421, agents=0.0,  targets=1.0, enemy=0.0\n",
            "--------------------------------------------------\n",
            "(0, 2, 0) -> 0.809999942779541\n",
            "(2, 0, 0) -> 0.809999942779541\n",
            "--------------------------------------------------\n",
            "[(tensor(0.6561, requires_grad=True), (0,)), (tensor(0., requires_grad=True), (1,)), (tensor(0.6915, requires_grad=True), (2,)), (tensor(0., requires_grad=True), (3,))]\n"
          ]
        }
      ]
    }
  ],
  "metadata": {
    "colab": {
      "provenance": [],
      "collapsed_sections": [
        "VQW8ifqMZjwi"
      ],
      "include_colab_link": true
    },
    "kernelspec": {
      "display_name": "Python 3",
      "name": "python3"
    },
    "language_info": {
      "name": "python"
    }
  },
  "nbformat": 4,
  "nbformat_minor": 0
}