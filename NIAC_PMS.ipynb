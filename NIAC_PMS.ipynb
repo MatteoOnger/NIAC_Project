{
  "cells": [
    {
      "cell_type": "markdown",
      "metadata": {
        "colab_type": "text",
        "id": "view-in-github"
      },
      "source": [
        "<a href=\"https://colab.research.google.com/github/MatteoOnger/NIAC_Project/blob/main/NIAC_PMS.ipynb\" target=\"_parent\"><img src=\"https://colab.research.google.com/assets/colab-badge.svg\" alt=\"Open In Colab\"/></a>"
      ]
    },
    {
      "cell_type": "markdown",
      "metadata": {
        "id": "PjrEkobbVNbX"
      },
      "source": [
        "# **NIAC Project: Pacman Maze Solver**\n",
        "\n",
        "*   **Authors:** Stefano Capelli, Matteo Onger\n",
        "*   **Date:** March 2025"
      ]
    },
    {
      "cell_type": "markdown",
      "metadata": {
        "id": "-yZMW6MUVWr_"
      },
      "source": [
        "**Documentation**:\n",
        "*   Gymnasium: [website](https://gymnasium.farama.org/)\n",
        "*   Scallop & Scallopy: [paper](https://www.researchgate.net/publication/369945806_Scallop_A_Language_for_Neurosymbolic_Programming), [repository](https://github.com/scallop-lang/scallop), [website](https://www.scallop-lang.org/)\n",
        "*   Pacman Maze game: [description](https://www.scallop-lang.org/ssnp24/index.html#section-17:~:text=2%3A%20PacMan%20Agent-,In,-this%20part%2C%20we)\n",
        "\n",
        "**Notes**:\n",
        "*   ..."
      ]
    },
    {
      "cell_type": "code",
      "execution_count": null,
      "metadata": {
        "colab": {
          "base_uri": "https://localhost:8080/"
        },
        "id": "05_11SYzU9b2",
        "outputId": "4b36d3da-3ad2-42c3-a808-435e1a0c7c2e"
      },
      "outputs": [],
      "source": [
        "# download project repository\n",
        "!git clone -b main https://github.com/MatteoOnger/NIAC_Project.git\n",
        "\n",
        "# download Scallopy 0.2.4 (Python 3.10)\n",
        "!wget https://github.com/scallop-lang/scallop/releases/download/0.2.4/scallopy-0.2.4-cp310-cp310-manylinux_2_27_x86_64.whl"
      ]
    },
    {
      "cell_type": "code",
      "execution_count": null,
      "metadata": {
        "colab": {
          "base_uri": "https://localhost:8080/"
        },
        "id": "AeWscrHaAcVj",
        "outputId": "70e34543-979f-4432-e7a1-d95af75e372b"
      },
      "outputs": [],
      "source": [
        "# download and install Miniconda\n",
        "%env PYTHONPATH=\n",
        "\n",
        "!wget https://repo.anaconda.com/miniconda/Miniconda3-py311_25.1.1-2-Linux-x86_64.sh\n",
        "!chmod +x /content/Miniconda3-py311_25.1.1-2-Linux-x86_64.sh\n",
        "!bash Miniconda3-py311_25.1.1-2-Linux-x86_64.sh -b -f -p /usr/local\n",
        "\n",
        "import sys\n",
        "sys.path.append('/usr/local/lib/python3.11/site-packages/')"
      ]
    },
    {
      "cell_type": "code",
      "execution_count": null,
      "metadata": {
        "colab": {
          "base_uri": "https://localhost:8080/"
        },
        "id": "s_mw-5kijoLc",
        "outputId": "e731022e-c7bb-413b-efc7-760055dd77e1"
      },
      "outputs": [],
      "source": [
        "# force creation of the virtual environment 'niac'\n",
        "!conda env remove -n niac -y || true\n",
        "!conda env create -f /content/NIAC_Project/environment.yaml -y\n",
        "!conda env list"
      ]
    },
    {
      "cell_type": "markdown",
      "metadata": {
        "id": "VQW8ifqMZjwi"
      },
      "source": [
        "---\n",
        "## Installation check"
      ]
    },
    {
      "cell_type": "code",
      "execution_count": null,
      "metadata": {
        "colab": {
          "base_uri": "https://localhost:8080/"
        },
        "id": "oj9kNBbcyUlM",
        "outputId": "c5ee56ee-5c6e-4f08-e517-4f5a6990ce5a"
      },
      "outputs": [],
      "source": [
        "# hello world in Scallopy 0.2.4\n",
        "%%bash\n",
        "source activate niac\n",
        "python3\n",
        "\n",
        "import sys\n",
        "print(f\"-----\\nCurrent Python version: {sys.version}\\n-----\")\n",
        "\n",
        "import scallopy\n",
        "ctx = scallopy.ScallopContext()\n",
        "\n",
        "ctx.add_relation(\"hello\", str)\n",
        "ctx.add_facts(\"hello\", [(\"Hello World\",)])\n",
        "ctx.run()\n",
        "\n",
        "print(list(ctx.relation(\"hello\")))\n",
        "quit()"
      ]
    },
    {
      "cell_type": "code",
      "execution_count": null,
      "metadata": {
        "colab": {
          "base_uri": "https://localhost:8080/",
          "height": 423
        },
        "id": "Fl2e1lZqBak5",
        "outputId": "8d166b39-e5f4-4035-fbdf-d90f53c4e31a"
      },
      "outputs": [],
      "source": [
        "# random agent plays pacman maze\n",
        "import matplotlib.pyplot as plt\n",
        "import numpy as np\n",
        "import time\n",
        "\n",
        "from IPython.display import clear_output\n",
        "from NIAC_Project.pacman.arena import AvoidingArena\n",
        "\n",
        "\n",
        "env = AvoidingArena(render_mode=\"rgb_array\", grid_dim=(4,4), num_enemies=3)\n",
        "env.reset()\n",
        "\n",
        "counter = 0\n",
        "tot_reward = 0\n",
        "end_episode = False\n",
        "\n",
        "while not end_episode:\n",
        "    action = np.random.randint(0, 4)\n",
        "    observation, reward, terminated, truncated, info = env.step(action)\n",
        "    tot_reward += reward\n",
        "\n",
        "    clear_output(wait=True)\n",
        "    plt.imshow(env.render())\n",
        "    plt.axis('off')\n",
        "    plt.show()\n",
        "    time.sleep(.1)\n",
        "\n",
        "    end_episode = terminated or truncated or (counter > 10)\n",
        "    counter += 1\n",
        "\n",
        "env.close()\n",
        "print(f\"Tot reward:{tot_reward}\")"
      ]
    },
    {
      "cell_type": "markdown",
      "metadata": {},
      "source": [
        "---\n",
        "## ..."
      ]
    },
    {
      "cell_type": "markdown",
      "metadata": {},
      "source": []
    }
  ],
  "metadata": {
    "colab": {
      "authorship_tag": "ABX9TyNU1y0oGtPzFfVBgszXv7Nw",
      "include_colab_link": true,
      "provenance": []
    },
    "kernelspec": {
      "display_name": "Python 3",
      "name": "python3"
    },
    "language_info": {
      "name": "python"
    }
  },
  "nbformat": 4,
  "nbformat_minor": 0
}
